{
 "cells": [
  {
   "cell_type": "code",
   "execution_count": null,
   "outputs": [],
   "source": [
    "import cv2 as cv\n",
    "import numpy as np\n",
    "from matplotlib import pyplot as plt\n",
    "\n",
    "\n",
    "img = cv.imread(r\"C:\\Users\\rieke\\Desktop\\bloodsmears\\Image_0054.jpeg\");\n",
    "\n",
    "plt.imshow(img)"
   ],
   "metadata": {
    "collapsed": false,
    "pycharm": {
     "name": "#%%\n"
    }
   }
  },
  {
   "cell_type": "code",
   "execution_count": null,
   "outputs": [],
   "source": [
    "\n",
    "gray = cv.cvtColor(img,cv.COLOR_BGR2GRAY)\n",
    "from matplotlib import pyplot as plt\n",
    "plt.hist(gray.ravel(),256,[0,256]);\n",
    "plt.show()\n",
    "plt.imshow(gray, cmap=\"gray\")\n",
    "(minVal, maxVal, minLoc, maxLoc) = cv.minMaxLoc(gray)\n",
    "thresh2 = cv.cvtColor(gray, cv.COLOR_GRAY2RGB)\n",
    "thresh3 = cv.cvtColor(img, cv.COLOR_RGB2HSV)\n",
    "print(thresh3)\n",
    "th = thresh3[:,:,2]\n",
    "\n",
    "plt.imshow(th)\n",
    "\n",
    "\n",
    "\n",
    "ret, thresh1 = cv.threshold(gray, 200, 255, cv.THRESH_BINARY+ cv.THRESH_OTSU)\n",
    "\n",
    "\n",
    "\n",
    "\n",
    "\n",
    "\n",
    "contours, hierarchy = cv.findContours(thresh1,\n",
    "                                       cv.RETR_LIST,\n",
    "                                       cv.CHAIN_APPROX_NONE)\n",
    "count = 0\n",
    "for con in contours:\n",
    "    if(cv.contourArea(con)>20):\n",
    "        img_contour = cv.drawContours(gray, con, -1, (255, 0, 255), 10)\n",
    "        count= count+1\n",
    "print(count)\n",
    "#plt.imshow(img_contour, cmap= \"gray\")"
   ],
   "metadata": {
    "collapsed": false,
    "pycharm": {
     "name": "#%%\n"
    }
   }
  },
  {
   "cell_type": "code",
   "execution_count": null,
   "outputs": [],
   "source": [
    "hsv = cv.cvtColor(img, cv.COLOR_BGR2HSV)\n",
    "from matplotlib import pyplot as plt\n",
    "\n",
    "plt.hist(hsv.ravel(), 256, [0, 256]);\n",
    "plt.show()\n",
    "plt.imshow(hsv, cmap=\"gray\")\n",
    "hue =hsv[:, :, 0]\n",
    "sat = hsv[:, :, 1]\n",
    "val =hsv[:, :, 2]\n",
    "plt.imshow(test)\n",
    "\n"
   ],
   "metadata": {
    "collapsed": false,
    "pycharm": {
     "name": "#%%\n"
    }
   }
  },
  {
   "cell_type": "code",
   "execution_count": null,
   "outputs": [],
   "source": [
    "plt.hist(val.ravel(), 256, [0, 256]);\n",
    "\n",
    "print(maxVal)\n",
    "(minVal, maxVal, minLoc, maxLoc) = cv.minMaxLoc(hue)\n",
    "\n",
    "ret, thresh1 = cv.threshold(val, 100, 150, cv.THRESH_BINARY +\n",
    "                            cv.THRESH_OTSU)\n",
    "plt.imshow(thresh1, cmap=\"gray\")"
   ],
   "metadata": {
    "collapsed": false,
    "pycharm": {
     "name": "#%%\n"
    }
   }
  },
  {
   "cell_type": "code",
   "execution_count": null,
   "outputs": [],
   "source": [],
   "metadata": {
    "collapsed": false,
    "pycharm": {
     "name": "#%%\n"
    }
   }
  },
  {
   "cell_type": "code",
   "execution_count": null,
   "outputs": [],
   "source": [
    "\n",
    "import cv2\n",
    "import numpy as np\n",
    "from matplotlib import pyplot as plt\n",
    "import math\n",
    "\n",
    "\n",
    "img = cv2.imread(r\"C:\\Users\\rieke\\Desktop\\bloodsmears\\Image_0054.jpeg\")\n",
    "#plt.hist(img.ravel(),256,[0,256]); plt.show()\n",
    "\n",
    "original = img.copy()\n",
    "hsv = cv2.cvtColor(img, cv2.COLOR_BGR2HSV)\n",
    "gray = cv2.cvtColor(img, cv2.COLOR_BGR2GRAY)\n",
    "plt.hist(gray.ravel(),256,[0,256]); plt.show()\n",
    "\n",
    "plt.imshow(gray,cmap=\"gray\")\n",
    "#plt.imshow(hsv, cmap=\"hsv\")\n",
    "\n",
    "ret,tresh = cv2.threshold(gray,0,255,cv2.THRESH_BINARY_INV+cv2.THRESH_OTSU)\n",
    "plt.imshow(tresh, cmap =\"gray\")\n",
    "# noise removal\n",
    "\n",
    "tresh = ret > 120\n",
    "\n",
    "contours, hierarchy = cv2.findContours(tresh,\n",
    "                                       cv2.RETR_LIST,\n",
    "                                       cv2.CHAIN_APPROX_NONE)\n",
    "img_contour = cv2.drawContours(gray, contours, -1, (0, 255, 0), 3)\n",
    "print(len(contours))\n",
    "plt.imshow(img_contour, cmap= \"brg\")\n",
    "# sure background area\n",
    "sure_bg = cv2.dilate(opening,kernel,iterations=3)\n",
    "# Finding sure foreground area\n",
    "dist_transform = cv2.distanceTransform(opening,cv2.DIST_L2,5)\n",
    "ret, sure_fg = cv2.threshold(dist_transform,0.7*dist_transform.max(),255,0)\n",
    "# Finding unknown region\n",
    "sure_fg = np.uint8(sure_fg)\n",
    "unknown = cv2.subtract(sure_bg,sure_fg)\n",
    "# Marker labelling\n",
    "ret, markers = cv2.connectedComponents(sure_fg)\n",
    "\n",
    "# Add one to all labels so that sure background is not 0, but 1\n",
    "markers = markers+1\n",
    "# Now, mark the region of unknown with zero\n",
    "markers[unknown==255] = 0\n",
    "\n",
    "markers = cv2.watershed(img,markers)\n",
    "img[markers == -1] = [255,0,0]\n",
    "\n"
   ],
   "metadata": {
    "collapsed": false,
    "pycharm": {
     "name": "#%%\n"
    }
   }
  },
  {
   "cell_type": "code",
   "execution_count": null,
   "outputs": [],
   "source": [
    "\n",
    "hsv_lower = np.array([156,60,0])\n",
    "hsv_upper = np.array([179,115,255])\n",
    "mask = cv2.inRange(hsv, hsv_lower, hsv_upper)\n",
    "kernel = cv2.getStructuringElement(cv2.MORPH_ELLIPSE, (3,3))\n",
    "opening = cv2.morphologyEx(mask, cv2.MORPH_OPEN, kernel, iterations=1)\n",
    "close = cv2.morphologyEx(opening, cv2.MORPH_CLOSE, kernel, iterations=2)\n",
    "plt.imshow(close)"
   ],
   "metadata": {
    "collapsed": false,
    "pycharm": {
     "name": "#%%\n"
    }
   }
  },
  {
   "cell_type": "code",
   "execution_count": null,
   "outputs": [],
   "source": [
    "import skimage.io\n",
    "import skimage.color\n",
    "import skimage.filters\n",
    "image = skimage.io.imread(\"/Users/rieke/Desktop/blood smears/Image_2515.tif\")\n",
    "# convert the image to grayscale\n",
    "gray_image = skimage.color.rgb2gray(image)\n",
    "hsv_image = skimage.color.rgb2hsv(image)\n",
    "\n",
    "# blur the image to denoise\n",
    "blurred_image = skimage.filters.gaussian(gray_image, sigma=1.0)\n",
    "\n",
    "fig, ax = plt.subplots()\n",
    "plt.imshow(blurred_image, cmap=\"gray\")\n",
    "plt.show()\n",
    "\n",
    "\n"
   ],
   "metadata": {
    "collapsed": false,
    "pycharm": {
     "name": "#%%\n"
    }
   }
  },
  {
   "cell_type": "code",
   "execution_count": null,
   "outputs": [],
   "source": [
    "# create a histogram of the blurred grayscale image\n",
    "hue_img = hsv_image[:, :, 0]\n",
    "sat_img = hsv_image[:,:,1]\n",
    "value_img = hsv_image[:, :, 2]\n",
    "\n",
    "fig, (ax0, ax1, ax2, ax3) = plt.subplots(ncols=4, figsize=(8, 2))\n",
    "ax0.imshow(image)\n",
    "ax0.set_title(\"RGB image\")\n",
    "ax0.axis('off')\n",
    "ax1.imshow(hue_img, cmap='hsv')\n",
    "ax1.set_title(\"Hue channel\")\n",
    "ax1.axis('off')\n",
    "ax2.imshow(sat_img)\n",
    "ax2.set_title('Saturation\\nChannel')\n",
    "ax2.axis('off')\n",
    "ax3.imshow(value_img)\n",
    "ax3.set_title(\"Value channel\")\n",
    "ax3.axis('off')\n",
    "fig.tight_layout()\n",
    "histogram, bin_edges = np.histogram(sat_img, bins=256, range=(0.0, 1.0))\n",
    "\n",
    "fig, ax = plt.subplots()\n",
    "plt.plot(bin_edges[0:-1], histogram)\n",
    "plt.title(\"Grayscale Histogram\")\n",
    "plt.xlabel(\"grayscale value\")\n",
    "plt.ylabel(\"pixels\")\n",
    "plt.xlim(0, 1.0)\n",
    "plt.show()\n",
    "\n",
    "max_val = np.max(blurred_image)\n",
    "print(max_val)"
   ],
   "metadata": {
    "collapsed": false,
    "pycharm": {
     "name": "#%%\n"
    }
   }
  },
  {
   "cell_type": "code",
   "execution_count": null,
   "outputs": [],
   "source": [
    "t = skimage.filters.threshold_otsu(value_img)\n",
    "print(t)\n",
    "\n",
    "thresholds = skimage.filters.threshold_multiotsu(gray_image, classes=3)\n",
    "regions = np.digitize(gray_image, bins=thresholds)\n",
    "\n",
    "\n",
    "fig, ax = plt.subplots(ncols=2, figsize=(10, 5))\n",
    "ax[0].imshow(image)\n",
    "ax[0].set_title('Original')\n",
    "ax[0].axis('off')\n",
    "ax[1].imshow(regions)\n",
    "ax[1].set_title('Multi-Otsu thresholding')\n",
    "ax[1].axis('off')\n",
    "plt.show()\n",
    "\n",
    "binary_mask = gray_image < thresholds[0]\n",
    "binary_mask = skimage.morphology.remove_small_objects(binary_mask, 50)\n",
    "binary_mask = skimage.morphology.remove_small_holes(binary_mask, 50)\n",
    "fig, ax = plt.subplots()\n",
    "plt.imshow(binary_mask, cmap=\"gray\")\n",
    "plt.show()\n",
    "from skimage import img_as_ubyte\n",
    "save =  img_as_ubyte(image)\n",
    "cv_image = img_as_ubyte(binary_mask)\n",
    "import imutils\n",
    "\n",
    "contours, hierarchies = cv.findContours(cv_image, cv.RETR_LIST, cv.CHAIN_APPROX_SIMPLE)\n",
    "print(len(contours))\n",
    "\n",
    "\n",
    "\n",
    "count = 0\n",
    "for contour in contours:\n",
    "    if(cv.contourArea(contour) < 10):\n",
    "        continue\n",
    "    else:\n",
    "        cv.drawContours(cv_image, contour, 2, (0,255,0), 2)\n",
    "        count = count + 1\n",
    "\n",
    "print(count)\n",
    "plt.imshow(cv_image, cmap=\"brg\")\n"
   ],
   "metadata": {
    "collapsed": false,
    "pycharm": {
     "name": "#%%\n"
    }
   }
  },
  {
   "cell_type": "code",
   "execution_count": null,
   "outputs": [],
   "source": [
    "circles = cv.HoughCircles(cv_image,cv.HOUGH_GRADIENT, 1, 20, param1 = 50,\n",
    "               param2 = 30, minRadius = 10, maxRadius = 100)\n",
    "\n",
    "\n",
    "# ensure at least some circles were found\n",
    "if circles is not None:\n",
    "\t# convert the (x, y) coordinates and radius of the circles to integers\n",
    "\tcircles = np.round(circles[0, :]).astype(\"int\")\n",
    "\t# loop over the (x, y) coordinates and radius of the circles\n",
    "\tfor (x, y, r) in circles:\n",
    "\t\t# draw the circle in the output image, then draw a rectangle\n",
    "\t\t# corresponding to the center of the circle\n",
    "\t\tcv.circle(output, (x, y), r, (0, 255, 0), 4)\n",
    "\t\tcv.rectangle(output, (x - 5, y - 5), (x + 5, y + 5), (0, 128, 255), -1)\n",
    "\t# show the output image\n",
    "cv.imshow(\"1\", np.hstack([cv_image, output]))\n",
    "cv.waitKey(0)\n",
    "\n"
   ],
   "metadata": {
    "collapsed": false,
    "pycharm": {
     "name": "#%%\n"
    }
   }
  },
  {
   "cell_type": "code",
   "execution_count": null,
   "outputs": [],
   "source": [
    "\n",
    "gre = skimage.transform.hough_ellipse(binary_mask, min_size=100, max_size=120)\n",
    "\n",
    "fig, bx = plt.subplots()\n",
    "bx.imshow(image, cmap=plt.cm.gray)\n",
    "for center_y, center_x, radius in gre:\n",
    "    circy, circx = skimage.draw.circle_perimeter(center_y, center_x, radius,\n",
    "                                    shape=gre.shape)\n",
    "    gre[circy, circx] = (220, 20, 20)\n",
    "plt.show()\n"
   ],
   "metadata": {
    "collapsed": false,
    "pycharm": {
     "name": "#%%\n"
    }
   }
  },
  {
   "cell_type": "code",
   "execution_count": null,
   "outputs": [],
   "source": [
    "\n",
    "\n",
    "contours = skimage.measure.find_contours(binary_mask, 0.8)\n",
    "fig, ax = plt.subplots()\n",
    "ax.imshow(binary_mask, cmap=plt.cm.gray)\n",
    "for con in contours:\n",
    "    x,y= skimage.measure.EllipseModel(con)\n",
    "    eli = skimage.measure.EllipseModel()\n",
    "    eli = eli.estimate(x,y)\n",
    "count = 0\n",
    "for contour in contours:\n",
    "    ax.plot(contour[:, 1], contour[:, 0], linewidth=1)\n",
    "    count = count+1\n",
    "\n",
    "print(count)\n",
    "ax.axis('image')\n",
    "ax.set_xticks([])\n",
    "ax.set_yticks([])\n",
    "plt.show()\n",
    "plt.imshow(sat_img)\n",
    "\n",
    "count = 0\n",
    "for contour in contours:\n",
    "    ax.plot(contour[:, 1], contour[:, 0], linewidth=1)\n",
    "    count = count + 1"
   ],
   "metadata": {
    "collapsed": false,
    "pycharm": {
     "name": "#%%\n"
    }
   }
  },
  {
   "cell_type": "code",
   "execution_count": null,
   "outputs": [],
   "source": [],
   "metadata": {
    "collapsed": false,
    "pycharm": {
     "name": "#%%\n"
    }
   }
  },
  {
   "cell_type": "markdown",
   "source": [],
   "metadata": {
    "collapsed": false,
    "pycharm": {
     "name": "#%% md\n"
    }
   }
  },
  {
   "cell_type": "code",
   "execution_count": null,
   "outputs": [],
   "source": [
    "import numpy as np\n",
    "import cv2\n",
    "\n",
    "img = cv2.imread(\"/Users/rieke/Desktop/blood smears/Image_2515.tif\")\n",
    "\n",
    "image = cv2.GaussianBlur(img,(5,5),0)\n",
    "cv2.imshow('Filtered_original',image)\n",
    "\n",
    "Lab = cv2.cvtColor(image, cv2.COLOR_LBGR2LAB)\n",
    "\n",
    "#masking/thresholding\n",
    "lower = np.array([130,146,20])\n",
    "upper = np.array([255,255,180])\n",
    "\n",
    "mask = cv2.inRange(Lab, lower, upper)\n",
    "#cv2.imshow('Masked',mask)\n",
    "\n",
    "masked = np.ones(image.shape[:2], dtype=\"uint8\") * 255\n",
    "\n",
    "#morphology\n",
    "kernal = np.ones((3,3),np.uint8)\n",
    "opening = cv2.morphologyEx(mask,cv2.MORPH_OPEN,kernal, iterations = 2)\n",
    "final = cv2.dilate(opening,kernal,iterations = 3)\n",
    "cv2.imshow('Final',final)\n",
    "\n",
    "im2,contours,hierarchy = cv2.findContours(final, 1, 2)\n",
    "\n",
    "for (i, c) in enumerate(contours):\n",
    "    cnt = contours[i]\n",
    "    M = cv2.moments(cnt)\n",
    "    #print( M )\n",
    "    x,y,w,h = cv2.boundingRect(cnt)\n",
    "    if h>170 or w>170:\n",
    "        cv2.rectangle(img,(x,y),(x+w,y+h),(0,255,0),2)\n",
    "        crop = image[y:y+h, x:x+w]\n",
    "        #cv2.imwrite('/home/sourav/Documents/Segmentation/Cropped/sample{}.jpg'.format(i+1), crop)\n",
    "        cv2.imshow('Crop{}'.format(i+1),crop)\n",
    "\n",
    "plt.imshow(img)"
   ],
   "metadata": {
    "collapsed": false,
    "pycharm": {
     "name": "#%%\n"
    }
   }
  },
  {
   "cell_type": "code",
   "execution_count": null,
   "outputs": [],
   "source": [],
   "metadata": {
    "collapsed": false,
    "pycharm": {
     "name": "#%%\n"
    }
   }
  },
  {
   "cell_type": "code",
   "execution_count": null,
   "outputs": [],
   "source": [
    "t2 = cv.imread(\"/Users/rieke/Desktop/blood smears/Image_2515.tif\")\n",
    "output = t2.copy()\n",
    "\n",
    "thresh = cv.cvtColor(t2, cv.COLOR_BGR2GRAY)\n",
    "# detect circles in the image\n",
    "circles = cv.HoughCircles(thresh,cv.HOUGH_GRADIENT, 1, 20, param1 = 50,\n",
    "               param2 = 30, minRadius = 1, maxRadius = 40)\n",
    "\n",
    "\n",
    "# ensure at least some circles were found\n",
    "if circles is not None:\n",
    "\t# convert the (x, y) coordinates and radius of the circles to integers\n",
    "\tcircles = np.round(circles[0, :]).astype(\"int\")\n",
    "\t# loop over the (x, y) coordinates and radius of the circles\n",
    "\tfor (x, y, r) in circles:\n",
    "\t\t# draw the circle in the output image, then draw a rectangle\n",
    "\t\t# corresponding to the center of the circle\n",
    "\t\tcv.circle(output, (x, y), r, (0, 255, 0), 4)\n",
    "\t\tcv.rectangle(output, (x - 5, y - 5), (x + 5, y + 5), (0, 128, 255), -1)\n",
    "\t# show the output image\n",
    "\tcv.imshow(\"outputs\", np.hstack([t2, output]))\n",
    "\tcv.waitKey(0)\n",
    "\n"
   ],
   "metadata": {
    "collapsed": false,
    "pycharm": {
     "name": "#%%\n"
    }
   }
  },
  {
   "cell_type": "code",
   "execution_count": null,
   "outputs": [],
   "source": [
    "import cv2 as cv\n",
    "import numpy as np\n",
    "from matplotlib import pyplot as plt\n",
    "\n",
    "\n",
    "img = cv.imread(r\"C:\\Users\\rieke\\Desktop\\bloodsmears\\Image_0054.jpeg\");\n",
    "\n",
    "plt.imshow(img)\n",
    "gray = cv.cvtColor(img,cv.COLOR_BGR2GRAY)\n",
    "rety, threshy = cv.threshold(gray, 180, 255, cv.THRESH_BINARY+ cv.THRESH_OTSU)\n",
    "\n",
    "contoury, hierarchyy = cv.findContours(threshy,\n",
    "                                       cv.RETR_LIST,\n",
    "                                       cv.CHAIN_APPROX_NONE)\n",
    "county = 0\n",
    "for cony in contoury:\n",
    "    if(cv.contourArea(cony)>20):\n",
    "        img_contoury = cv.drawContours(gray, cony, -1, (255, 0, 255), 10)\n",
    "        county= count+1\n",
    "print(count)\n",
    "\n",
    "plt.imshow(img_contoury, cmap=\"brg\")\n"
   ],
   "metadata": {
    "collapsed": false,
    "pycharm": {
     "name": "#%%\n"
    }
   }
  }
 ],
 "metadata": {
  "kernelspec": {
   "display_name": "Python 3",
   "language": "python",
   "name": "python3"
  },
  "language_info": {
   "codemirror_mode": {
    "name": "ipython",
    "version": 2
   },
   "file_extension": ".py",
   "mimetype": "text/x-python",
   "name": "python",
   "nbconvert_exporter": "python",
   "pygments_lexer": "ipython2",
   "version": "2.7.6"
  }
 },
 "nbformat": 4,
 "nbformat_minor": 0
}