{
 "cells": [
  {
   "cell_type": "code",
   "execution_count": 4,
   "metadata": {
    "collapsed": true
   },
   "outputs": [],
   "source": [
    "import cv2 as cv\n",
    "import numpy as np\n",
    "from matplotlib import pyplot as plt\n",
    "\n",
    "\n",
    "img = cv.imread(r\"C:\\Users\\rieke\\Desktop\\bloodsmears\\Image_0054.jpeg\");\n",
    "\n",
    "plt.imshow(img)\n",
    "gray = cv.cvtColor(img,cv.COLOR_BGR2GRAY)\n",
    "rety, threshy = cv.threshold(gray, 0, 255, cv.THRESH_BINARY+ cv.THRESH_OTSU)\n",
    "\n",
    "contoury, hierarchyy = cv.findContours(threshy,\n",
    "                                       cv.RETR_LIST,\n",
    "                                       cv.CHAIN_APPROX_NONE)\n",
    "county = 0\n",
    "for cony in contoury:\n",
    "    if(cv.contourArea(cony)>20):\n",
    "        img_contoury = cv.drawContours(gray, cony, -1, (255, 0, 255), 10)\n",
    "        county= county+1\n",
    "print(county)\n",
    "plt.imshow(img_contoury, cmap=\"brg\")\n"
   ]
  }
 ],
 "metadata": {
  "kernelspec": {
   "display_name": "Python 3",
   "language": "python",
   "name": "python3"
  },
  "language_info": {
   "codemirror_mode": {
    "name": "ipython",
    "version": 2
   },
   "file_extension": ".py",
   "mimetype": "text/x-python",
   "name": "python",
   "nbconvert_exporter": "python",
   "pygments_lexer": "ipython2",
   "version": "2.7.6"
  }
 },
 "nbformat": 4,
 "nbformat_minor": 0
}